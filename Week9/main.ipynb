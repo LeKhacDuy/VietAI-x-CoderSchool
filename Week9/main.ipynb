{
 "cells": [
  {
   "cell_type": "code",
   "execution_count": null,
   "metadata": {},
   "outputs": [],
   "source": [
    "import os\n",
    "import cv2\n",
    "import json\n",
    "import torch\n",
    "import matplotlib.pyplot as plt\n",
    "from tqdm.auto import tqdm\n",
    "\n",
    "JSON_PATH = \"football_train/Match_1951_1_0_subclip/Match_1951_1_0_subclip.json\"\n",
    "IMG_PATH = \"frames/Match_1951_1_0_subclip\"\n",
    "\n",
    "with open(JSON_PATH, \"r\") as file:\n",
    "    data = json.load(file)"
   ]
  },
  {
   "cell_type": "code",
   "execution_count": null,
   "metadata": {},
   "outputs": [],
   "source": [
    "for image_data in data['images']:\n",
    "    file_name = image_data['file_name']\n",
    "    image_id = image_data['id']\n",
    "\n",
    "    img = cv2.imread(filename=os.path.join(IMG_PATH, file_name))\n",
    "    img = cv2.cvtColor(img, cv2.COLOR_BGR2RGBA)\n",
    "    \n",
    "    annot_lst = [annot for annot in data['annotations'] if annot['image_id'] == image_id and annot['category_id'] == 4]\n",
    "\n",
    "    for annot in annot_lst:\n",
    "        bbox = annot['bbox']\n",
    "        player_number = annot['attributes']['jersey_number']\n",
    "\n",
    "        x, y, w, h = map(int, bbox) \n",
    "\n",
    "        color = (0, 255, 0)  # Green color\n",
    "        thickness = 2\n",
    "        cv2.rectangle(img, (x, y), (x + w, y + h), color, thickness)\n",
    "\n",
    "        (text_width, text_height), _ = cv2.getTextSize(\n",
    "            str(player_number), \n",
    "            cv2.FONT_HERSHEY_SIMPLEX, \n",
    "            0.5, \n",
    "            1\n",
    "            )\n",
    "\n",
    "        cv2.putText(\n",
    "            img, \n",
    "            str(player_number), \n",
    "            (x, y - 5), \n",
    "            cv2.FONT_HERSHEY_SIMPLEX, \n",
    "            2, \n",
    "            (0, 0, 0), \n",
    "            5, cv2.LINE_AA)\n",
    "        # cropped_image = img[y:y+h, x:x+w]\n",
    "        \n",
    "    plt.figure(figsize=(10,5))\n",
    "    plt.axis(\"off\")\n",
    "    plt.imshow(img)\n",
    "\n",
    "    break"
   ]
  },
  {
   "cell_type": "code",
   "execution_count": null,
   "metadata": {},
   "outputs": [],
   "source": [
    "for image_data in data['images']:\n",
    "    file_name = image_data['file_name']\n",
    "    image_id = image_data['id']\n",
    "\n",
    "    img = cv2.imread(filename=os.path.join(IMG_PATH, file_name))\n",
    "    img = cv2.cvtColor(img, cv2.COLOR_BGR2RGBA)\n",
    "    \n",
    "    annot_lst = [annot for annot in data['annotations'] if annot['image_id'] == image_id and annot['category_id'] == 4]\n",
    "\n",
    "    for annot in annot_lst:\n",
    "        # Crop image\n",
    "        bbox = annot['bbox']\n",
    "        x, y, w, h = map(int, bbox) \n",
    "        cropped_image = img[y:y+h, x:x+w]\n",
    "\n",
    "        # Get player number\n",
    "        player_number = annot['attributes']['jersey_number']\n",
    "        \n",
    "        plt.figure(figsize=(3,3))\n",
    "        plt.axis(\"off\")\n",
    "        plt.imshow(cropped_image)\n",
    "        plt.title(f\"number: {player_number}\")\n",
    "\n",
    "    break"
   ]
  },
  {
   "cell_type": "code",
   "execution_count": null,
   "metadata": {},
   "outputs": [],
   "source": [
    "from torch.utils.data import Dataset"
   ]
  },
  {
   "cell_type": "code",
   "execution_count": null,
   "metadata": {},
   "outputs": [],
   "source": [
    "class FootBall(Dataset):\n",
    "    def __init__(self, file_name:str):\n",
    "        super().__init__()\n",
    "\n",
    "        self.json_path = f\"football_train/{file_name}/{file_name}.json\"\n",
    "        self.image_path = f\"frames/{file_name}\"\n",
    "\n",
    "        with open(self.json_path, \"r\") as file:\n",
    "            self.data = json.load(file)\n",
    "        \n",
    "        self.all_images = list()\n",
    "        self.numbers = list()\n",
    "\n",
    "        for image_data in tqdm(data['images']):\n",
    "            crop_imgs, player_nums = self._get_crop_imgs_with_player_numbers(image_data=image_data)\n",
    "\n",
    "            self.all_images.append(crop_imgs)\n",
    "            self.numbers.append(player_nums)\n",
    "    \n",
    "    def __len__(self):\n",
    "        return len(self.data)\n",
    "\n",
    "    def __getitem__(self, index):\n",
    "        return self.all_images[index], self.numbers[index]\n",
    "\n",
    "    \n",
    "    def _get_crop_imgs_with_player_numbers(self, image_data:dict) -> tuple:\n",
    "        crop_imgs = list()\n",
    "        player_nums = list()\n",
    "        \n",
    "        file_name = image_data['file_name']\n",
    "        image_id = image_data['id']\n",
    "\n",
    "        img = cv2.imread(filename=os.path.join(self.image_path, file_name))\n",
    "        img = cv2.cvtColor(img, cv2.COLOR_BGR2RGBA)\n",
    "\n",
    "        annot_lst = [annot for annot in self.data['annotations'] if annot['image_id'] == image_id and annot['category_id'] == 4]\n",
    "        for annot in annot_lst:\n",
    "            # Crop image\n",
    "            bbox = annot['bbox']\n",
    "            x, y, w, h = map(int, bbox) \n",
    "            cropped_image = img[y:y+h, x:x+w]\n",
    "\n",
    "            # Get player number\n",
    "            player_number = annot['attributes']['jersey_number']\n",
    "\n",
    "            crop_imgs.append(cropped_image)\n",
    "            player_nums.append(player_number)\n",
    "        \n",
    "        return crop_imgs, player_nums\n",
    "        "
   ]
  },
  {
   "cell_type": "code",
   "execution_count": null,
   "metadata": {},
   "outputs": [],
   "source": [
    "data = FootBall(file_name=\"Match_1951_1_0_subclip\")"
   ]
  },
  {
   "cell_type": "code",
   "execution_count": null,
   "metadata": {},
   "outputs": [],
   "source": [
    "class FootBall(Dataset):\n",
    "    def __init__(self, file_name:str):\n",
    "        super().__init__()\n",
    "\n",
    "        self.json_path = f\"football_train/{file_name}/{file_name}.json\"\n",
    "        self.image_path = f\"frames/{file_name}\"\n",
    "\n",
    "        with open(self.json_path, \"r\") as file:\n",
    "            self.data = json.load(file)\n",
    "        \n",
    "        self.images = self.data['images']\n",
    "    \n",
    "    def __len__(self):\n",
    "        return len(self.data)\n",
    "\n",
    "    def __getitem__(self, index):\n",
    "        image_data = self.images[index]\n",
    "        crop_imgs, player_nums = self._get_crop_imgs_with_player_numbers(image_data=image_data)\n",
    "        return crop_imgs, player_nums\n",
    "\n",
    "    def _get_crop_imgs_with_player_numbers(self, image_data:dict) -> tuple:\n",
    "        crop_imgs = list()\n",
    "        player_nums = list()\n",
    "        \n",
    "        file_name = image_data['file_name']\n",
    "        image_id = image_data['id']\n",
    "\n",
    "        img = cv2.imread(filename=os.path.join(self.image_path, file_name))\n",
    "        img = cv2.cvtColor(img, cv2.COLOR_BGR2RGB)\n",
    "\n",
    "        annot_lst = [annot for annot in self.data['annotations'] if annot['image_id'] == image_id and annot['category_id'] == 4]\n",
    "        for annot in annot_lst:\n",
    "            # Crop image\n",
    "            bbox = annot['bbox']\n",
    "            x, y, w, h = map(int, bbox) \n",
    "            cropped_image = img[y:y+h, x:x+w]\n",
    "\n",
    "            # Get player number\n",
    "            player_number = annot['attributes']['jersey_number']\n",
    "\n",
    "            crop_imgs.append(cropped_image)\n",
    "            player_nums.append(player_number)\n",
    "        \n",
    "        return crop_imgs, player_nums"
   ]
  },
  {
   "cell_type": "code",
   "execution_count": null,
   "metadata": {},
   "outputs": [],
   "source": [
    "data = FootBall(file_name=\"Match_1951_1_0_subclip\")"
   ]
  },
  {
   "cell_type": "code",
   "execution_count": null,
   "metadata": {},
   "outputs": [],
   "source": [
    "images, numbers = data[0]"
   ]
  },
  {
   "cell_type": "code",
   "execution_count": null,
   "metadata": {},
   "outputs": [],
   "source": [
    "for image in images:\n",
    "    print(image.shape)"
   ]
  },
  {
   "cell_type": "code",
   "execution_count": null,
   "metadata": {},
   "outputs": [],
   "source": [
    "len(images)"
   ]
  },
  {
   "cell_type": "code",
   "execution_count": null,
   "metadata": {},
   "outputs": [],
   "source": [
    "numbers"
   ]
  },
  {
   "cell_type": "code",
   "execution_count": null,
   "metadata": {},
   "outputs": [],
   "source": [
    "len(numbers)"
   ]
  }
 ],
 "metadata": {
  "kernelspec": {
   "display_name": "new",
   "language": "python",
   "name": "python3"
  },
  "language_info": {
   "codemirror_mode": {
    "name": "ipython",
    "version": 3
   },
   "file_extension": ".py",
   "mimetype": "text/x-python",
   "name": "python",
   "nbconvert_exporter": "python",
   "pygments_lexer": "ipython3",
   "version": "3.9.20"
  }
 },
 "nbformat": 4,
 "nbformat_minor": 2
}
